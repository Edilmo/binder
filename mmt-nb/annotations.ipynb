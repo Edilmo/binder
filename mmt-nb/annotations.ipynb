{
 "cells": [
  {
   "cell_type": "code",
   "execution_count": null,
   "metadata": {
    "ExecuteTime": {
     "end_time": "2018-03-09T08:40:27.731985Z",
     "start_time": "2018-03-09T08:40:27.529887Z"
    },
    "hide_input": false
   },
   "outputs": [],
   "source": [
    "from IPython.display import display\n",
    "import sys\n",
    "import datetime"
   ]
  },
  {
   "cell_type": "code",
   "execution_count": null,
   "metadata": {
    "ExecuteTime": {
     "end_time": "2018-03-09T08:40:29.160544Z",
     "start_time": "2018-03-09T08:40:27.733805Z"
    },
    "hide_input": false,
    "scrolled": true
   },
   "outputs": [],
   "source": [
    "from mammut.common.util import RegionalSettingsType\n",
    "from mammut.common.mammut_api import User, Gender, VerificationStatus, UserType\n",
    "from mammut.common.package import Package"
   ]
  },
  {
   "cell_type": "code",
   "execution_count": null,
   "metadata": {
    "ExecuteTime": {
     "end_time": "2018-03-09T08:40:29.176437Z",
     "start_time": "2018-03-09T08:40:29.162624Z"
    },
    "hide_input": true,
    "scrolled": true
   },
   "outputs": [],
   "source": [
    "# bRestaurant 2.0:\n",
    "presentation_id = '1jf6-ZGmWZZbujoeInCS5LDF8K8EEwYRN-CZlwzX80rM'\n",
    "\n",
    "#Standar 4\n",
    "standard_spreadsheet_id = '1YZ_Nl3HZqAxxjDScBeXsjbN0iH2pqJjitdwbEP8VkhU'\n",
    "\n",
    "#usuario\n",
    "user = User('Edilmo', 'Palencia', 'MyNews', '+14086211255', 'edilmo@gmail.com', RegionalSettingsType.ES,\n",
    "            Gender.male,\n",
    "            datetime.date(1980, 5, 21), VerificationStatus.verified, UserType.machine, '568829079',\n",
    "            'EAAFdHzdph0sBAFFSZC3DbZBOWdeJ2mtatqL4U83m7YQGD1nkD2Fnrm87AQynCyiAJ50MBLvGDiX4XqHf1gTYCyQ7rZAz0rFeVJqZAEPNh7ZBo6sIM94RYpbejLrZAZAOAH6pVbGWyCzD7vsAvHChlbxmMsIlP9ZAlZAznWfa7PlWNUwZDZD')"
   ]
  },
  {
   "cell_type": "code",
   "execution_count": null,
   "metadata": {
    "ExecuteTime": {
     "end_time": "2018-03-09T08:41:06.696534Z",
     "start_time": "2018-03-09T08:40:29.178195Z"
    },
    "hide_input": true
   },
   "outputs": [],
   "source": [
    "package = Package(presentation_id,\n",
    "                  standard_spreadsheet_id,\n",
    "                  user)"
   ]
  },
  {
   "cell_type": "markdown",
   "metadata": {},
   "source": [
    "## Anotado"
   ]
  },
  {
   "cell_type": "markdown",
   "metadata": {},
   "source": [
    "### Notas\n",
    "1. El orden de anotado en el widget es en funcion de las dimensiones y  es el mismo definido en el standar -> definitions -> definition-class. \n",
    "Si se selecciona para anotar una dimension y la anterior a esta no ha sido anotada, el widget automáticamente \n",
    "colocara para anotar la ultima dimension valida. \n",
    "\n",
    "2. Se pueden definir restituciones para un evento. Esto se puede hacer solo para la primera dimension en la lista\n",
    "del orden, de esa manera las siguientes anotaciones ya incluyen la restitucion. ingresar restitucion y hacer click en `guardar restitucion`\n",
    "\n",
    "3. Se debe hacer click en `guardar anotacion` siempre. Agregar una etiqueta o arco no persiste la información"
   ]
  },
  {
   "cell_type": "code",
   "execution_count": null,
   "metadata": {
    "ExecuteTime": {
     "end_time": "2018-03-09T08:41:06.715817Z",
     "start_time": "2018-03-09T08:41:06.698459Z"
    },
    "hide_input": true,
    "scrolled": true
   },
   "outputs": [],
   "source": [
    "annotation_widget = package.show_annotation_widget()\n",
    "display(annotation_widget)"
   ]
  },
  {
   "cell_type": "code",
   "execution_count": null,
   "metadata": {},
   "outputs": [],
   "source": [
    "functionals_help_widget = package.show_functionals_help_widget()\n",
    "display(functionals_help_widget)"
   ]
  },
  {
   "cell_type": "code",
   "execution_count": null,
   "metadata": {},
   "outputs": [],
   "source": [
    "display(package.show_annotations_validator_widget())"
   ]
  },
  {
   "cell_type": "code",
   "execution_count": null,
   "metadata": {},
   "outputs": [],
   "source": [
    "package.show_invalid_spans_table()"
   ]
  },
  {
   "cell_type": "markdown",
   "metadata": {},
   "source": [
    "## Lexicalización\n",
    "\n",
    "### Recordatorios \n",
    "* Botón \"Reiniciar\" para borrar todo y empezar de nuevo.\n",
    "* Botón \"Buscar Lemma\" para buscar definiciones en distintas fuentes.\n",
    "* Pulsa sobre el nombre de la fuente para ver su contenido.\n",
    "* Fuentes de definiciones son limitadas por el idioma seleccionado.\n",
    "* Botón \"check\" para aplicar paradigma morfológico seleccionado.\n",
    "* Botón \"Concordancia\" para mostrar chequeo de concordancia dentro del lexicalization widget.\n",
    "* Botón \"Agregar Definiciones al final\" para agregar las definiciones al final del diccionario.\n",
    "* Botón \"Crear Diccionario nuevo\" para crear nuevo sheet con las nuevas definiciones al final.\n",
    "\n"
   ]
  },
  {
   "cell_type": "code",
   "execution_count": null,
   "metadata": {
    "ExecuteTime": {
     "end_time": "2018-03-09T08:41:06.843147Z",
     "start_time": "2018-03-09T08:41:06.717744Z"
    }
   },
   "outputs": [],
   "source": [
    "package.show_lexicalization_widget()"
   ]
  },
  {
   "cell_type": "code",
   "execution_count": null,
   "metadata": {
    "ExecuteTime": {
     "end_time": "2018-03-09T08:41:06.884514Z",
     "start_time": "2018-03-09T08:41:06.844727Z"
    },
    "hide_input": true
   },
   "outputs": [],
   "source": [
    "package.get_pending_words_table('es')"
   ]
  },
  {
   "cell_type": "markdown",
   "metadata": {
    "ExecuteTime": {
     "end_time": "2017-12-15T17:24:48.866427Z",
     "start_time": "2017-12-15T17:24:48.863262Z"
    }
   },
   "source": [
    "## Desambiguación"
   ]
  },
  {
   "cell_type": "code",
   "execution_count": null,
   "metadata": {
    "ExecuteTime": {
     "end_time": "2018-03-09T08:41:06.901989Z",
     "start_time": "2018-03-09T08:41:06.886038Z"
    },
    "hide_input": true
   },
   "outputs": [],
   "source": [
    "package.show_disambiguation_widget()"
   ]
  },
  {
   "cell_type": "markdown",
   "metadata": {},
   "source": [
    "## Conocimiento - Red Semantica"
   ]
  },
  {
   "cell_type": "code",
   "execution_count": null,
   "metadata": {
    "ExecuteTime": {
     "end_time": "2018-03-09T08:41:08.767146Z",
     "start_time": "2018-03-09T08:41:06.904964Z"
    }
   },
   "outputs": [],
   "source": [
    "from mammut.common.mammutGraph import *\n",
    "mg = MammutGraph('1iOqKaBh_8XX1QDkWgJcOhB0xDlJx-0gsCONGBZLZXyA','p')\n",
    "mg.view()"
   ]
  },
  {
   "cell_type": "code",
   "execution_count": null,
   "metadata": {
    "ExecuteTime": {
     "end_time": "2018-03-09T08:41:08.869993Z",
     "start_time": "2018-03-09T08:41:08.770551Z"
    }
   },
   "outputs": [],
   "source": [
    "mg.view_filtered(['service_point'])"
   ]
  },
  {
   "cell_type": "code",
   "execution_count": null,
   "metadata": {},
   "outputs": [],
   "source": []
  }
 ],
 "metadata": {
  "hide_input": false,
  "kernelspec": {
   "display_name": "Python 3",
   "language": "python",
   "name": "python3"
  },
  "language_info": {
   "codemirror_mode": {
    "name": "ipython",
    "version": 3
   },
   "file_extension": ".py",
   "mimetype": "text/x-python",
   "name": "python",
   "nbconvert_exporter": "python",
   "pygments_lexer": "ipython3",
   "version": "3.6.9"
  },
  "latex_envs": {
   "LaTeX_envs_menu_present": true,
   "autocomplete": true,
   "bibliofile": "biblio.bib",
   "cite_by": "apalike",
   "current_citInitial": 1,
   "eqLabelWithNumbers": true,
   "eqNumInitial": 1,
   "hotkeys": {
    "equation": "Ctrl-E",
    "itemize": "Ctrl-I"
   },
   "labels_anchors": false,
   "latex_user_defs": false,
   "report_style_numbering": false,
   "user_envs_cfg": false
  },
  "toc": {
   "colors": {
    "hover_highlight": "#DAA520",
    "navigate_num": "#000000",
    "navigate_text": "#333333",
    "running_highlight": "#FF0000",
    "selected_highlight": "#FFD700",
    "sidebar_border": "#EEEEEE",
    "wrapper_background": "#FFFFFF"
   },
   "moveMenuLeft": true,
   "nav_menu": {
    "height": "12px",
    "width": "252px"
   },
   "navigate_menu": true,
   "number_sections": true,
   "sideBar": true,
   "threshold": 4,
   "toc_cell": false,
   "toc_section_display": "block",
   "toc_window_display": false,
   "widenNotebook": false
  }
 },
 "nbformat": 4,
 "nbformat_minor": 4
}
