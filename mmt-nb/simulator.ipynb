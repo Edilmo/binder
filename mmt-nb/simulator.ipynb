{
 "cells": [
  {
   "cell_type": "code",
   "execution_count": 1,
   "metadata": {
    "ExecuteTime": {
     "end_time": "2018-11-29T14:36:21.899902Z",
     "start_time": "2018-11-29T14:36:17.683617Z"
    }
   },
   "outputs": [],
   "source": [
    "import os\n",
    "import sys\n",
    "\n",
    "from mammut.common.simulator import *\n",
    "from mammut import apps"
   ]
  },
  {
   "cell_type": "code",
   "execution_count": 2,
   "metadata": {
    "ExecuteTime": {
     "end_time": "2018-11-29T14:36:24.016065Z",
     "start_time": "2018-11-29T14:36:24.002792Z"
    }
   },
   "outputs": [],
   "source": [
    "mammut_api_url = \"http://api.mammut.svc.cluster.local:21161\"\n",
    "redis_address = 'redis-redis-ha.redis.svc.cluster.local'\n",
    "if 'true' in os.getenv('KTT_FRAMEWORK_IN_DOCKER', \"\").lower():\n",
    "    mammut_api_url = \"http://api:21161\"\n",
    "    redis_address = 'redis'\n",
    "    apps.KAFKA_BROKER_STR = 'kafka:9092'\n",
    "else:\n",
    "    mammut_api_url = \"http://localhost:21161\"\n",
    "    redis_address = 'localhost'\n",
    "    apps.KAFKA_BROKER_STR = 'localhost:9092'\n",
    "\n",
    "redis_port = 6379\n",
    "\n",
    "# bPrime 1.0:\n",
    "#presentation_id = '1_vTBhWQwspdtgzS1X-cxiLsnPb_0ontJ98k43omnGn8'\n",
    "# bRestaurant 2.0:\n",
    "presentation_id = '1jf6-ZGmWZZbujoeInCS5LDF8K8EEwYRN-CZlwzX80rM'\n",
    "#########################\n",
    "# Standard 4\n",
    "standard_spreadsheet_id = '1YZ_Nl3HZqAxxjDScBeXsjbN0iH2pqJjitdwbEP8VkhU'\n",
    "\n",
    "USERS_FILENAME = \"users.json\"\n",
    "ROOMS_FILENAME = \"rooms.json\"\n",
    "users_rooms_spreadsheet_id = '1ALGGhCsOSZXQNPuuOnGGTuYJMRI8EIbjLZT3JhACNPE'\n",
    "users_sheet_name = 'Ponentes, Asistentes'\n",
    "rooms_sheet_name = 'Ponencias, Conferencias'"
   ]
  },
  {
   "cell_type": "code",
   "execution_count": 3,
   "metadata": {},
   "outputs": [],
   "source": [
    "%config Application.log_level=\"ERROR\""
   ]
  },
  {
   "cell_type": "markdown",
   "metadata": {},
   "source": [
    "# Panel de Control de Data - Simulador Mammut\n",
    "\n",
    "Este notebook permite interpretar y cargar la data preparada en los spreadsheets para ser visualizada en el simulador de Mammut mediante Facebook Messenger."
   ]
  },
  {
   "cell_type": "code",
   "execution_count": 4,
   "metadata": {
    "ExecuteTime": {
     "end_time": "2018-11-29T14:36:28.868124Z",
     "start_time": "2018-11-29T14:36:28.865644Z"
    }
   },
   "outputs": [],
   "source": [
    "simulator_obj = Simulator()"
   ]
  },
  {
   "cell_type": "code",
   "execution_count": 5,
   "metadata": {
    "ExecuteTime": {
     "end_time": "2018-11-29T14:36:30.912959Z",
     "start_time": "2018-11-29T14:36:30.557659Z"
    }
   },
   "outputs": [],
   "source": [
    "widget = simulator_obj.get_simulator_widget(mammut_api_url, \n",
    "                                           redis_address, \n",
    "                                           redis_port, \n",
    "                                           presentation_id, \n",
    "                                           standard_spreadsheet_id,\n",
    "                                           USERS_FILENAME, \n",
    "                                            users_rooms_spreadsheet_id, \n",
    "                                            users_sheet_name, \n",
    "                                            rooms_sheet_name,\n",
    "                                            ROOMS_FILENAME)"
   ]
  },
  {
   "cell_type": "code",
   "execution_count": 6,
   "metadata": {
    "ExecuteTime": {
     "end_time": "2018-11-29T14:36:31.884194Z",
     "start_time": "2018-11-29T14:36:31.827692Z"
    }
   },
   "outputs": [
    {
     "data": {
      "application/vnd.jupyter.widget-view+json": {
       "model_id": "e5007c79e17c48269a7dfe63611b44f3",
       "version_major": 2,
       "version_minor": 0
      },
      "text/plain": [
       "Accordion(children=(VBox(children=(HBox(children=(Text(value='http://localhost:21161', description='Mammut API…"
      ]
     },
     "metadata": {},
     "output_type": "display_data"
    }
   ],
   "source": [
    "display(widget)"
   ]
  },
  {
   "cell_type": "code",
   "execution_count": null,
   "metadata": {},
   "outputs": [],
   "source": []
  }
 ],
 "metadata": {
  "hide_input": false,
  "kernelspec": {
   "display_name": "Python 3",
   "language": "python",
   "name": "python3"
  },
  "language_info": {
   "codemirror_mode": {
    "name": "ipython",
    "version": 3
   },
   "file_extension": ".py",
   "mimetype": "text/x-python",
   "name": "python",
   "nbconvert_exporter": "python",
   "pygments_lexer": "ipython3",
   "version": "3.6.9"
  },
  "latex_envs": {
   "LaTeX_envs_menu_present": true,
   "autocomplete": true,
   "bibliofile": "biblio.bib",
   "cite_by": "apalike",
   "current_citInitial": 1,
   "eqLabelWithNumbers": true,
   "eqNumInitial": 1,
   "hotkeys": {
    "equation": "Ctrl-E",
    "itemize": "Ctrl-I"
   },
   "labels_anchors": false,
   "latex_user_defs": false,
   "report_style_numbering": false,
   "user_envs_cfg": false
  },
  "toc": {
   "colors": {
    "hover_highlight": "#DAA520",
    "navigate_num": "#000000",
    "navigate_text": "#333333",
    "running_highlight": "#FF0000",
    "selected_highlight": "#FFD700",
    "sidebar_border": "#EEEEEE",
    "wrapper_background": "#FFFFFF"
   },
   "moveMenuLeft": true,
   "nav_menu": {
    "height": "30px",
    "width": "252px"
   },
   "navigate_menu": true,
   "number_sections": true,
   "sideBar": true,
   "threshold": 4,
   "toc_cell": false,
   "toc_section_display": "block",
   "toc_window_display": false,
   "widenNotebook": false
  }
 },
 "nbformat": 4,
 "nbformat_minor": 4
}
