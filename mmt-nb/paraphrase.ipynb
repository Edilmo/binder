{
 "cells": [
  {
   "cell_type": "code",
   "execution_count": 1,
   "metadata": {
    "ExecuteTime": {
     "end_time": "2018-03-09T08:40:27.731985Z",
     "start_time": "2018-03-09T08:40:27.529887Z"
    },
    "hide_input": false
   },
   "outputs": [],
   "source": [
    "from IPython.display import display\n",
    "import sys\n",
    "import datetime"
   ]
  },
  {
   "cell_type": "code",
   "execution_count": 2,
   "metadata": {
    "ExecuteTime": {
     "end_time": "2018-03-09T08:40:29.160544Z",
     "start_time": "2018-03-09T08:40:27.733805Z"
    },
    "hide_input": false,
    "scrolled": true
   },
   "outputs": [],
   "source": [
    "from mammut.common.util import RegionalSettingsType\n",
    "from mammut.common.mammut_api import User, Gender, VerificationStatus, UserType\n",
    "from mammut.common.package import Package\n",
    "from mammut.common.corpus import CorpusMap"
   ]
  },
  {
   "cell_type": "code",
   "execution_count": 3,
   "metadata": {
    "ExecuteTime": {
     "end_time": "2018-03-09T08:40:29.176437Z",
     "start_time": "2018-03-09T08:40:29.162624Z"
    },
    "hide_input": true,
    "scrolled": true
   },
   "outputs": [],
   "source": [
    "# bRestaurant 2.0:\n",
    "presentation_id = '1jf6-ZGmWZZbujoeInCS5LDF8K8EEwYRN-CZlwzX80rM'\n",
    "\n",
    "#Standar 4\n",
    "standard_spreadsheet_id = '1YZ_Nl3HZqAxxjDScBeXsjbN0iH2pqJjitdwbEP8VkhU'\n",
    "\n",
    "#usuario\n",
    "user = User('Edilmo', 'Palencia', 'MyNews', '+14086211255', 'edilmo@gmail.com', RegionalSettingsType.ES,\n",
    "            Gender.male,\n",
    "            datetime.date(1980, 5, 21), VerificationStatus.verified, UserType.machine, '568829079',\n",
    "            'EAAFdHzdph0sBAFFSZC3DbZBOWdeJ2mtatqL4U83m7YQGD1nkD2Fnrm87AQynCyiAJ50MBLvGDiX4XqHf1gTYCyQ7rZAz0rFeVJqZAEPNh7ZBo6sIM94RYpbejLrZAZAOAH6pVbGWyCzD7vsAvHChlbxmMsIlP9ZAlZAznWfa7PlWNUwZDZD')"
   ]
  },
  {
   "cell_type": "code",
   "execution_count": 4,
   "metadata": {
    "ExecuteTime": {
     "end_time": "2018-03-09T08:41:06.696534Z",
     "start_time": "2018-03-09T08:40:29.178195Z"
    },
    "hide_input": true
   },
   "outputs": [
    {
     "name": "stderr",
     "output_type": "stream",
     "text": [
      "/Users/edilmo/Library/Mobile Documents/com~apple~CloudDocs/code/git/mammut-framework/src/mammut/common/lexicon.py:2966: ElasticsearchDeprecationWarning:\n",
      "\n",
      "[types removal] Specifying types in document index requests is deprecated, use the typeless endpoints instead (/{index}/_doc/{id}, /{index}/_doc, or /{index}/_create/{id}).\n",
      "\n",
      "/Users/edilmo/Library/Mobile Documents/com~apple~CloudDocs/code/git/mammut-framework/src/mammut/common/lexicon.py:2922: ElasticsearchDeprecationWarning:\n",
      "\n",
      "[types removal] Specifying types in document index requests is deprecated, use the typeless endpoints instead (/{index}/_doc/{id}, /{index}/_doc, or /{index}/_create/{id}).\n",
      "\n"
     ]
    },
    {
     "data": {
      "application/vnd.jupyter.widget-view+json": {
       "model_id": "34b83c3aae6143abb824758fb070bbbb",
       "version_major": 2,
       "version_minor": 0
      },
      "text/plain": [
       "Text(value='Your package is being initialized!', disabled=True, layout=Layout(height='120px', width='900px'))"
      ]
     },
     "metadata": {},
     "output_type": "display_data"
    },
    {
     "name": "stderr",
     "output_type": "stream",
     "text": [
      "/Users/edilmo/Library/Mobile Documents/com~apple~CloudDocs/code/git/mammut-framework/src/mammut/common/indexer.py:47: ElasticsearchDeprecationWarning:\n",
      "\n",
      "[types removal] Specifying types in document index requests is deprecated, use the typeless endpoints instead (/{index}/_doc/{id}, /{index}/_doc, or /{index}/_create/{id}).\n",
      "\n"
     ]
    }
   ],
   "source": [
    "package = Package(presentation_id,\n",
    "                  standard_spreadsheet_id,\n",
    "                  user)"
   ]
  },
  {
   "cell_type": "markdown",
   "metadata": {},
   "source": [
    "## Parafrasis"
   ]
  },
  {
   "cell_type": "markdown",
   "metadata": {},
   "source": [
    "### Notas\n",
    "1. Esta funcionalidad es experimental. \n",
    "\n",
    "2. Aun no se ha conversado formalmente esto con el equipo de linguistica.\n",
    "\n",
    "3. El equipo de ingenieria aun no ha podido sentarse a definir la experiencia de uso asociada a este tipo de funcionalidades."
   ]
  },
  {
   "cell_type": "code",
   "execution_count": 5,
   "metadata": {
    "ExecuteTime": {
     "end_time": "2018-03-09T08:41:06.715817Z",
     "start_time": "2018-03-09T08:41:06.698459Z"
    },
    "hide_input": true
   },
   "outputs": [
    {
     "name": "stdout",
     "output_type": "stream",
     "text": [
      "Numero de matches: 10\n"
     ]
    },
    {
     "data": {
      "text/plain": [
       "['Que buen local, la atencion es muy buena y el ambiente es excelente, sin duda el mejor sitio para la comida japonesa. Y la comida, bueno, maravillosa. Altamente recomendado.',\n",
       " 'El mejor ambiente para cenar. La comida es excelente, en especial las entradas. Totalmente recomendado.',\n",
       " 'encantada con este sitio, vale la pena darse el gusto con alguien especia, de almuerzo cena es un sitio recomendado ',\n",
       " 'Excelente lugar. Comidas deliciosas y con un ambiente muy agradable. Además, las porciones por persona son bastante grandes. Lo recomiendo!! ',\n",
       " 'Excelente lugar muy acogedor recomendado ampliamente un lugar agradable para compartir en familia, variedad de platos de excelente calidad recomendado ampliamente el helado frito ',\n",
       " 'Me parece muy buen restaurante aunque un poco costoso.',\n",
       " 'Excelente atención, y un menú de primera, el ambiente es súper agradable y puedes pasar un buen rato y compartir buena comida',\n",
       " 'Excelente comida japonesa, quizás el mejor lugar de caracas para degustar la tradicional comida nipona!\\nEl ambiente es muy bueno y privado, lo cual permite ir casi en cualquier ocasión.\\nEl Bento es de lo mejor en este lugar.\\nSe los recomiendo.',\n",
       " 'Definitivamente uno de los mejores lugares donde comer buen sushi... La atención es bastante buena, el ambiente muy agradable, recomiendo el spicy tuna roll, es de otro mundo... Lo recomiendo!',\n",
       " 'Muy bueno de verdad muy buena opción en la ciudad , su comida su ambiente y su servicio súper recomendado, buena propuesta \\n']"
      ]
     },
     "execution_count": 5,
     "metadata": {},
     "output_type": "execute_result"
    }
   ],
   "source": [
    "result = package.get_similar_phrases('corpus_degusta', CorpusMap.DEFAULT_CRAWLER_TYPE, 'un buen lugar para almorzar')\n",
    "\n",
    "print(f\"Numero de matches: {len(result)}\")\n",
    "result"
   ]
  },
  {
   "cell_type": "code",
   "execution_count": 6,
   "metadata": {},
   "outputs": [
    {
     "name": "stdout",
     "output_type": "stream",
     "text": [
      "Help on method get_similar_phrases in module mammut.common.package:\n",
      "\n",
      "get_similar_phrases(corpus_name:str, corpus_type:str, query:str) -> List[str] method of mammut.common.package.Package instance\n",
      "    Look in a corpus for all phrases similar to one provided.\n",
      "    \n",
      "    :param corpus_name: Name of the corpus to check.\n",
      "    :param corpus_type: Type of the corpus to check.\n",
      "    :param query: Phrase which we are looking similarities for.\n",
      "    :return: List of Phrases found in the corpus specified.\n",
      "\n"
     ]
    }
   ],
   "source": [
    "help(package.get_similar_phrases)"
   ]
  },
  {
   "cell_type": "code",
   "execution_count": null,
   "metadata": {},
   "outputs": [],
   "source": []
  }
 ],
 "metadata": {
  "hide_input": false,
  "kernelspec": {
   "display_name": "Python 3",
   "language": "python",
   "name": "python3"
  },
  "language_info": {
   "codemirror_mode": {
    "name": "ipython",
    "version": 3
   },
   "file_extension": ".py",
   "mimetype": "text/x-python",
   "name": "python",
   "nbconvert_exporter": "python",
   "pygments_lexer": "ipython3",
   "version": "3.6.9"
  },
  "latex_envs": {
   "LaTeX_envs_menu_present": true,
   "autocomplete": true,
   "bibliofile": "biblio.bib",
   "cite_by": "apalike",
   "current_citInitial": 1,
   "eqLabelWithNumbers": true,
   "eqNumInitial": 1,
   "hotkeys": {
    "equation": "Ctrl-E",
    "itemize": "Ctrl-I"
   },
   "labels_anchors": false,
   "latex_user_defs": false,
   "report_style_numbering": false,
   "user_envs_cfg": false
  },
  "toc": {
   "colors": {
    "hover_highlight": "#DAA520",
    "navigate_num": "#000000",
    "navigate_text": "#333333",
    "running_highlight": "#FF0000",
    "selected_highlight": "#FFD700",
    "sidebar_border": "#EEEEEE",
    "wrapper_background": "#FFFFFF"
   },
   "moveMenuLeft": true,
   "nav_menu": {
    "height": "12px",
    "width": "252px"
   },
   "navigate_menu": true,
   "number_sections": true,
   "sideBar": true,
   "threshold": 4,
   "toc_cell": false,
   "toc_section_display": "block",
   "toc_window_display": false,
   "widenNotebook": false
  }
 },
 "nbformat": 4,
 "nbformat_minor": 4
}
