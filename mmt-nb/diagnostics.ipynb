{
 "cells": [
  {
   "cell_type": "markdown",
   "metadata": {},
   "source": [
    "# Herramientas de diagnostico"
   ]
  },
  {
   "cell_type": "code",
   "execution_count": null,
   "metadata": {},
   "outputs": [],
   "source": [
    "import os\n",
    "import sys\n",
    "from kafka import KafkaConsumer, KafkaProducer\n",
    "from kafka.errors import KafkaError\n",
    "\n",
    "import redis\n",
    "\n",
    "from mammut import apps\n",
    "from mammut.apps import InterpreterMain_pb2\n",
    "from mammut.apps import WorkingMemory_pb2\n",
    "from mammut.apps import KAFKA_BROKER_STR"
   ]
  },
  {
   "cell_type": "code",
   "execution_count": null,
   "metadata": {},
   "outputs": [],
   "source": [
    "mammut_api_url = \"http://api.mammut.svc.cluster.local:21161\"\n",
    "redis_address = 'redis-redis-ha.redis.svc.cluster.local'\n",
    "if 'true' in os.getenv('KTT_FRAMEWORK_IN_DOCKER', \"\").lower():\n",
    "    mammut_api_url = \"http://api:21161\"\n",
    "    redis_address = 'redis'\n",
    "    apps.KAFKA_BROKER_STR = 'localhost:9092'\n",
    "else 'mammut-framework' in current_dir:\n",
    "    mammut_api_url = \"http://localhost:21161\"\n",
    "    redis_address = 'localhost'\n",
    "    apps.KAFKA_BROKER_STR = 'kafka:9092'\n",
    "\n",
    "redis_port = 6379"
   ]
  },
  {
   "cell_type": "markdown",
   "metadata": {},
   "source": [
    "## Kafka"
   ]
  },
  {
   "cell_type": "code",
   "execution_count": null,
   "metadata": {},
   "outputs": [],
   "source": [
    "consumer = KafkaConsumer('i-thought', 'rt-issue', 's-issue', 'o-thought', 't-issue', 'rs-issue', 'o-compile', 'i-compile',\n",
    "                         enable_auto_commit=True,\n",
    "                         auto_offset_reset='latest',\n",
    "                         group_id='diagnostic',\n",
    "                         bootstrap_servers=[KAFKA_BROKER_STR],\n",
    "#                          bootstrap_servers=['kafka:9092'],\n",
    "                         api_version=(0, 10))"
   ]
  },
  {
   "cell_type": "markdown",
   "metadata": {},
   "source": [
    "Para chequear que tareas de compilacion se han enviado, ejecutar el siguiente codigo."
   ]
  },
  {
   "cell_type": "code",
   "execution_count": null,
   "metadata": {},
   "outputs": [],
   "source": [
    "raw_messages = consumer.poll(timeout_ms=20000, max_records=5000)\n",
    "for topic_partition, messages in raw_messages.items():\n",
    "    for message in messages:\n",
    "        print('Topic: ' + topic_partition.topic + 'Key: ' + str(message.key))"
   ]
  },
  {
   "cell_type": "markdown",
   "metadata": {},
   "source": [
    "## Redis"
   ]
  },
  {
   "cell_type": "code",
   "execution_count": null,
   "metadata": {},
   "outputs": [],
   "source": [
    "redis_client = r = redis.StrictRedis(host=redis_address, port=6379, db=0)\n",
    "\n",
    "id_separator = '->'\n",
    "mammut_id = 4328\n",
    "room_id = 4710404336\n",
    "\n",
    "pending_status_key = f'Issues{id_separator}{mammut_id}{id_separator}{room_id}'\n",
    "halted_mammut_roomField_id = 'HaltedMachineRoom'\n",
    "pending_thoughts = f'PendingThoughts{id_separator}{mammut_id}{id_separator}{room_id}'\n",
    "verbs_mammut_id = f'Verbs{id_separator}{mammut_id}'\n",
    "verb_vertex_id_field = f'{mammut_id}{id_separator}Llamar{id_separator}call{id_separator}2121234567{id_separator}None'\n",
    "stack_scope_working_memory_mammut_room_id = f'StackScope{id_separator}{mammut_id}{id_separator}{room_id}'"
   ]
  },
  {
   "cell_type": "code",
   "execution_count": null,
   "metadata": {},
   "outputs": [],
   "source": [
    "redis_client.info()"
   ]
  },
  {
   "cell_type": "markdown",
   "metadata": {},
   "source": [
    "### Verbs"
   ]
  },
  {
   "cell_type": "code",
   "execution_count": null,
   "metadata": {},
   "outputs": [],
   "source": [
    "redis_client.hget(verbs_mammut_id, verb_vertex_id_field)"
   ]
  },
  {
   "cell_type": "markdown",
   "metadata": {},
   "source": [
    "### Halted room state"
   ]
  },
  {
   "cell_type": "code",
   "execution_count": null,
   "metadata": {},
   "outputs": [],
   "source": [
    "redis_client.hget(pending_status_key, halted_mammut_roomField_id)"
   ]
  },
  {
   "cell_type": "code",
   "execution_count": null,
   "metadata": {},
   "outputs": [],
   "source": [
    "redis_client.hgetall(pending_status_key)"
   ]
  },
  {
   "cell_type": "markdown",
   "metadata": {},
   "source": [
    "### Pending thoughts"
   ]
  },
  {
   "cell_type": "code",
   "execution_count": null,
   "metadata": {},
   "outputs": [],
   "source": [
    "peding_len = redis_client.llen(pending_thoughts)\n",
    "redis_client.lrange(pending_thoughts, 0, peding_len)"
   ]
  },
  {
   "cell_type": "code",
   "execution_count": null,
   "metadata": {},
   "outputs": [],
   "source": [
    "### Check conversation scope"
   ]
  },
  {
   "cell_type": "code",
   "execution_count": null,
   "metadata": {},
   "outputs": [],
   "source": [
    "stack_scope_working_memory_len = redis_client.llen(stack_scope_working_memory_mammut_room_id)\n",
    "stack_scope_working_memory_list = redis_client.lrange(stack_scope_working_memory_mammut_room_id, 0, stack_scope_working_memory_len)\n",
    "stack_scope_working_memory_list"
   ]
  },
  {
   "cell_type": "code",
   "execution_count": null,
   "metadata": {},
   "outputs": [],
   "source": [
    "working_memory_value = WorkingMemory_pb2.WorkingMemoryValue()\n",
    "working_memory_value.ParseFromString(stack_scope_working_memory_list[0])\n",
    "working_memory_value"
   ]
  },
  {
   "cell_type": "code",
   "execution_count": null,
   "metadata": {},
   "outputs": [],
   "source": [
    "redis_client.hgetall(str(working_memory_value))\n",
    "# redis_client.hgetall(stack_scope_working_memory_list[0])"
   ]
  },
  {
   "cell_type": "code",
   "execution_count": null,
   "metadata": {},
   "outputs": [],
   "source": [
    "### Erase conversation scope"
   ]
  },
  {
   "cell_type": "code",
   "execution_count": null,
   "metadata": {},
   "outputs": [],
   "source": [
    "redis_client.ltrim(stack_scope_working_memory_mammut_room_id, stack_scope_working_memory_len+1, stack_scope_working_memory_len)"
   ]
  },
  {
   "cell_type": "markdown",
   "metadata": {},
   "source": [
    "### Delete halted room mark and pending thoughts"
   ]
  },
  {
   "cell_type": "code",
   "execution_count": null,
   "metadata": {},
   "outputs": [],
   "source": [
    "redis_client.delete(pending_status_key)\n",
    "redis_client.delete(pending_thoughts)"
   ]
  },
  {
   "cell_type": "markdown",
   "metadata": {},
   "source": [
    "### Clear all working memory"
   ]
  },
  {
   "cell_type": "code",
   "execution_count": null,
   "metadata": {},
   "outputs": [],
   "source": [
    "redis_client.flushall()"
   ]
  },
  {
   "cell_type": "code",
   "execution_count": null,
   "metadata": {},
   "outputs": [],
   "source": []
  }
 ],
 "metadata": {
  "kernelspec": {
   "display_name": "Python 3",
   "language": "python",
   "name": "python3"
  },
  "language_info": {
   "codemirror_mode": {
    "name": "ipython",
    "version": 3
   },
   "file_extension": ".py",
   "mimetype": "text/x-python",
   "name": "python",
   "nbconvert_exporter": "python",
   "pygments_lexer": "ipython3",
   "version": "3.6.9"
  }
 },
 "nbformat": 4,
 "nbformat_minor": 4
}
