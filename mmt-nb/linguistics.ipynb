{
 "cells": [
  {
   "cell_type": "code",
   "execution_count": 1,
   "metadata": {
    "ExecuteTime": {
     "end_time": "2018-12-26T13:04:17.082680Z",
     "start_time": "2018-12-26T13:04:16.730547Z"
    },
    "hide_input": false
   },
   "outputs": [],
   "source": [
    "from IPython.display import display\n",
    "import sys\n",
    "import datetime"
   ]
  },
  {
   "cell_type": "code",
   "execution_count": 3,
   "metadata": {
    "ExecuteTime": {
     "end_time": "2018-12-26T13:04:20.531006Z",
     "start_time": "2018-12-26T13:04:17.084505Z"
    },
    "hide_input": false,
    "scrolled": true
   },
   "outputs": [],
   "source": [
    "from mammut.common.util import RegionalSettingsType\n",
    "from mammut.common.mammut_api import User, Gender, VerificationStatus, UserType\n",
    "from mammut.common.package import Package"
   ]
  },
  {
   "cell_type": "code",
   "execution_count": 4,
   "metadata": {
    "ExecuteTime": {
     "end_time": "2018-12-26T13:04:20.543722Z",
     "start_time": "2018-12-26T13:04:20.532765Z"
    },
    "hide_input": false,
    "scrolled": true
   },
   "outputs": [],
   "source": [
    "# bRestaurant 2.0:\n",
    "presentation_id = '1jf6-ZGmWZZbujoeInCS5LDF8K8EEwYRN-CZlwzX80rM'\n",
    "\n",
    "#Standar 4\n",
    "standard_spreadsheet_id = '1YZ_Nl3HZqAxxjDScBeXsjbN0iH2pqJjitdwbEP8VkhU'\n",
    "\n",
    "\n",
    "#base para el index que se genera\n",
    "\n",
    "#usuario\n",
    "user = User('Edilmo', 'Palencia', 'MyNews', '+14086211255', 'edilmo@gmail.com', RegionalSettingsType.ES,\n",
    "            Gender.male,\n",
    "            datetime.date(1980, 5, 21), VerificationStatus.verified, UserType.machine, '568829079',\n",
    "            'EAAFdHzdph0sBAFFSZC3DbZBOWdeJ2mtatqL4U83m7YQGD1nkD2Fnrm87AQynCyiAJ50MBLvGDiX4XqHf1gTYCyQ7rZAz0rFeVJqZAEPNh7ZBo6sIM94RYpbejLrZAZAOAH6pVbGWyCzD7vsAvHChlbxmMsIlP9ZAlZAznWfa7PlWNUwZDZD')"
   ]
  },
  {
   "cell_type": "code",
   "execution_count": 5,
   "metadata": {
    "ExecuteTime": {
     "end_time": "2018-12-26T13:04:57.019487Z",
     "start_time": "2018-12-26T13:04:20.545474Z"
    },
    "hide_input": false
   },
   "outputs": [
    {
     "name": "stderr",
     "output_type": "stream",
     "text": [
      "/Users/edilmo/Library/Mobile Documents/com~apple~CloudDocs/code/git/mammut-framework/src/mammut/common/lexicon.py:2966: ElasticsearchDeprecationWarning:\n",
      "\n",
      "[types removal] Specifying types in document index requests is deprecated, use the typeless endpoints instead (/{index}/_doc/{id}, /{index}/_doc, or /{index}/_create/{id}).\n",
      "\n",
      "/Users/edilmo/Library/Mobile Documents/com~apple~CloudDocs/code/git/mammut-framework/src/mammut/common/lexicon.py:2922: ElasticsearchDeprecationWarning:\n",
      "\n",
      "[types removal] Specifying types in document index requests is deprecated, use the typeless endpoints instead (/{index}/_doc/{id}, /{index}/_doc, or /{index}/_create/{id}).\n",
      "\n"
     ]
    },
    {
     "data": {
      "application/vnd.jupyter.widget-view+json": {
       "model_id": "a2d286387a7046f796c68e4ab75d8a17",
       "version_major": 2,
       "version_minor": 0
      },
      "text/plain": [
       "Text(value='Your package is being initialized!', disabled=True, layout=Layout(height='120px', width='900px'))"
      ]
     },
     "metadata": {},
     "output_type": "display_data"
    },
    {
     "name": "stderr",
     "output_type": "stream",
     "text": [
      "/Users/edilmo/Library/Mobile Documents/com~apple~CloudDocs/code/git/mammut-framework/src/mammut/common/indexer.py:47: ElasticsearchDeprecationWarning:\n",
      "\n",
      "[types removal] Specifying types in document index requests is deprecated, use the typeless endpoints instead (/{index}/_doc/{id}, /{index}/_doc, or /{index}/_create/{id}).\n",
      "\n"
     ]
    }
   ],
   "source": [
    "package = Package(presentation_id,\n",
    "                  standard_spreadsheet_id,\n",
    "                  user)"
   ]
  },
  {
   "cell_type": "markdown",
   "metadata": {},
   "source": [
    "# Paradigmas Morfologicos"
   ]
  },
  {
   "cell_type": "markdown",
   "metadata": {},
   "source": [
    "Los paradigmas morfológicos se construyen siguiendo la siguiente sintaxis: \n",
    "- Se pueden combinar comandos y caracteres de cualquier manera.\n",
    "- Los FEATURES que se quieren asociar a una regla se combinan con el signo + y se separan de los comandos con un /.\n",
    "- Un paradigma puede contener muchas reglas concatenadas usando el | como separador.\n",
    "- Los paradigmas creados se pueden re usar para crear nuevos paradigmas en la misma hoja de excel o en alguna otra simplemente referenciandolos asi: `<sheet:word_model>`.\n",
    "\n",
    "Comandos:  \n",
    "`<E>`: Elemento vacío. No se modifica la palabra de ninguna manera.  \n",
    "`<L[#]>`: Puntero uno o varios caracteres a la izquierda.  \n",
    "`<R[#]>`: Puntero uno o varios caracteres a la derecha.  \n",
    "`<A>`: Elimina la tilde del caracter.  \n",
    "`<B[#]>`: Borra uno o varios caracteres y desplaza el puntero a la izquierda.  \n",
    "`<Á>`: Agrega un acute accent a la vocal apuntada.\n",
    "`<Ä>`: Agrega dieresis/trema/umlaut a la vocal apuntada.\n",
    "\n",
    "Ejemplo:\n",
    "\n",
    "`<sustantivos:ABUELO> | <E>/f+s | s/m+p | s/f+p`\n"
   ]
  },
  {
   "cell_type": "markdown",
   "metadata": {},
   "source": [
    "La siguiente función del package permite probar un paradigma morfológico directamente en el notebook.\n",
    "Los parametros de la función son:\n",
    "1. word_model - string: es una palabra que permite identificar el paradigma.\n",
    "2. grammar - string: regla morfológica en forma de gramatica siguiendo la sintaxis explicada anteriormente.\n",
    "3. descriptions - dict: contiene una descripción por cada clase de feature especificado en el grammar.\n",
    "4. words - list: contiene un conjunto de lemas sobre los cuales se probara la regla que esta en grammar.\n",
    "5. regional_settings - string: idioma.\n",
    "6. words_inflections - list - opcional: es una lista de listas de palabras que representan las inflexiones o derivaciones esperadas al aplicar la regla que esta en grammar sobre cada uno de los lemas de prueba que se especifican en words."
   ]
  },
  {
   "cell_type": "code",
   "execution_count": 6,
   "metadata": {
    "ExecuteTime": {
     "end_time": "2018-12-26T13:04:57.049334Z",
     "start_time": "2018-12-26T13:04:57.021433Z"
    }
   },
   "outputs": [
    {
     "data": {
      "application/vnd.jupyter.widget-view+json": {
       "model_id": "b49effa40dc546a3854ab880b72553e3",
       "version_major": 2,
       "version_minor": 0
      },
      "text/plain": [
       "VBox(children=(HTML(value='<!DOCTYPE html>\\n<html lang=\"en\">\\n<head>\\n    <meta charset=\"UTF-8\">\\n    <title>P…"
      ]
     },
     "metadata": {},
     "output_type": "display_data"
    }
   ],
   "source": [
    "package.test_paradigm('PALO', \n",
    "              '<E>/masc+sing | s/masc+plu', \n",
    "              {'gender':'solo Masculino', 'number': 'plural (-s)'}, \n",
    "              ['palo', 'clavo', 'chavo'], 'es')"
   ]
  },
  {
   "cell_type": "code",
   "execution_count": 7,
   "metadata": {
    "ExecuteTime": {
     "end_time": "2018-12-26T13:04:57.076691Z",
     "start_time": "2018-12-26T13:04:57.051291Z"
    }
   },
   "outputs": [
    {
     "data": {
      "application/vnd.jupyter.widget-view+json": {
       "model_id": "060e456f98c34c14ae906c57197ab7b6",
       "version_major": 2,
       "version_minor": 0
      },
      "text/plain": [
       "VBox(children=(HBox(children=(HTML(value='<!DOCTYPE html>\\n<html lang=\"en\">\\n<head>\\n    <meta charset=\"UTF-8\"…"
      ]
     },
     "metadata": {},
     "output_type": "display_data"
    }
   ],
   "source": [
    "package.test_paradigm('ABORIGEN', \n",
    "              '<E>/masc+sing | <E>/fem+sing | <L3><Á><R3>es/masc+plu | <L3><Á><R3>es/fem+plu', \n",
    "              {'gender':'masculino y femenino idénticos', 'number': 'singular (-uxux) plural (-úxexes)'}, \n",
    "              ['aborigen'], [['avorigen', 'aborigen', 'aborígenes', 'aborígenes']], 'es')"
   ]
  },
  {
   "cell_type": "markdown",
   "metadata": {
    "hide_input": false
   },
   "source": [
    "La siguiente función del package permite probar un paradigma morfológico que está definido en el Excel de Standard.\n",
    "Los parametros de la función son:\n",
    "1. pos_id - string: identificador del POS al que esta asociado el paradigma a probar.\n",
    "2. word_model - string: palabra que permite identificar el paradigma.\n",
    "3. words - list: contiene un conjunto de lemas sobre los cuales se probara la regla que esta en grammar.\n",
    "4. regional_settings - string: idioma.\n",
    "5. words_inflections - list - opcional: es una lista de listas de palabras que representan las inflexiones o derivaciones esperadas al aplicar la regla que esta en grammar sobre cada uno de los lemas de prueba que se especifican en words."
   ]
  },
  {
   "cell_type": "code",
   "execution_count": 8,
   "metadata": {
    "ExecuteTime": {
     "end_time": "2018-12-26T13:04:57.107408Z",
     "start_time": "2018-12-26T13:04:57.078799Z"
    }
   },
   "outputs": [
    {
     "data": {
      "application/vnd.jupyter.widget-view+json": {
       "model_id": "ef700ea36d714a43ac78ce611efcaf12",
       "version_major": 2,
       "version_minor": 0
      },
      "text/plain": [
       "VBox(children=(HTML(value='<!DOCTYPE html>\\n<html lang=\"en\">\\n<head>\\n    <meta charset=\"UTF-8\">\\n    <title>P…"
      ]
     },
     "metadata": {},
     "output_type": "display_data"
    }
   ],
   "source": [
    "package.test_paradigm_excel('NOUN', 'PALO', ['palo', 'clavo', 'chavo'], 'es')"
   ]
  },
  {
   "cell_type": "markdown",
   "metadata": {},
   "source": [
    "**Conjugaciones**\n",
    "Las siguientes funciones permiten visualizar dentro del notebook paginas de conjugacion de verbos. \n",
    "El primer parámetro de la función es el verbo y el segundo parámetro es el idioma y la fuente.\n",
    "El metodo clean_word_reference_conjugation permite copiar y pegar la conjugación de un verbo tal y como aparece en la pagina de WORD REFERENCE, y luego obtener los verbos de una forma mas limpia que permite copiarlos del notebook a otro lugar cualquiera sin perder tiempo borrando caracteres innecesarios."
   ]
  },
  {
   "cell_type": "code",
   "execution_count": 9,
   "metadata": {
    "ExecuteTime": {
     "end_time": "2018-12-26T13:04:57.122901Z",
     "start_time": "2018-12-26T13:04:57.109444Z"
    }
   },
   "outputs": [
    {
     "data": {
      "application/vnd.jupyter.widget-view+json": {
       "model_id": "53c48743f7894fc18da4eb8a66e9c753",
       "version_major": 2,
       "version_minor": 0
      },
      "text/plain": [
       "HTML(value='<div style=\"border: 2px solid #D5CC5A; overflow: hidden; margin: 15px auto; max-width: 950px;\">\\n …"
      ]
     },
     "metadata": {},
     "output_type": "display_data"
    }
   ],
   "source": [
    "package.create_conjugator_section('amar', 'es-wr')"
   ]
  },
  {
   "cell_type": "code",
   "execution_count": 10,
   "metadata": {
    "ExecuteTime": {
     "end_time": "2018-12-26T13:04:57.135268Z",
     "start_time": "2018-12-26T13:04:57.124968Z"
    }
   },
   "outputs": [
    {
     "data": {
      "application/vnd.jupyter.widget-view+json": {
       "model_id": "b375d71e30ba4b16a3ec971b5bb9a6ba",
       "version_major": 2,
       "version_minor": 0
      },
      "text/plain": [
       "HTML(value='<iframe src=\"//www.verbix.com/webverbix/English/love.html\" width=750 height=350></iframe>')"
      ]
     },
     "metadata": {},
     "output_type": "display_data"
    }
   ],
   "source": [
    "package.create_conjugator_section('love', 'en')"
   ]
  },
  {
   "cell_type": "code",
   "execution_count": 11,
   "metadata": {
    "ExecuteTime": {
     "end_time": "2018-12-26T13:04:57.148922Z",
     "start_time": "2018-12-26T13:04:57.137197Z"
    }
   },
   "outputs": [
    {
     "name": "stdout",
     "output_type": "stream",
     "text": [
      "amo\n",
      "amas\n",
      "ama\n",
      "amamos\n",
      "amáis\n",
      "aman\n",
      "amás\n"
     ]
    },
    {
     "data": {
      "text/plain": [
       "['amo', 'amas', 'ama', 'amamos', 'amáis', 'aman', 'amás']"
      ]
     },
     "execution_count": 11,
     "metadata": {},
     "output_type": "execute_result"
    }
   ],
   "source": [
    "package.clean_word_reference_conjugation(\"\"\"yo\tamo\n",
    "tú\tamas\n",
    "él, ella, Ud.\tama\n",
    "nosotros\tamamos\n",
    "vosotros\tamáis\n",
    "ellos, ellas, Uds.\taman\n",
    "vos\tamás\"\"\")"
   ]
  },
  {
   "cell_type": "markdown",
   "metadata": {},
   "source": [
    "## Concordancia"
   ]
  },
  {
   "cell_type": "markdown",
   "metadata": {},
   "source": [
    "**lista de frases, palabras o wildcards**\n",
    "\n",
    "Sintaxis\n",
    "\n",
    "1. Busqueda por tokens, ejemplo \"Caracas\".\n",
    "2. Busqueda por frases, ejemplo \"El mejor Restaurant\"\n",
    "3. Busqueda con wilcards sigue la siguiente sintaxis:\n",
    "        <frase> + <wildcard> + <frase>\n",
    "    Un wildcard sigue la siguiente sintaxis:\n",
    "        (* + <Cuantificador Opcional> + )\n",
    "        donde:\n",
    "         * = cualquier token o frase que se encuentre entre las dos frases\n",
    "         <Cuantificador Opcional> = numero de tokens que se requieren entre las dos frases (en caso\n",
    "                                    de no estar este cuantificador, todos los resultados serán mostrados)."
   ]
  },
  {
   "cell_type": "code",
   "execution_count": 12,
   "metadata": {
    "ExecuteTime": {
     "end_time": "2018-12-26T13:04:57.188845Z",
     "start_time": "2018-12-26T13:04:57.151071Z"
    },
    "scrolled": true
   },
   "outputs": [
    {
     "data": {
      "application/vnd.jupyter.widget-view+json": {
       "model_id": "ea9581c3e6c0408e8c6a156802d4aeab",
       "version_major": 2,
       "version_minor": 0
      },
      "text/plain": [
       "HTML(value='<!DOCTYPE html>\\n<html lang=\"en\">\\n<head>\\n    <meta charset=\"UTF-8\">\\n    <title>Concordancia</ti…"
      ]
     },
     "metadata": {},
     "output_type": "display_data"
    }
   ],
   "source": [
    "package.check_concordance(['caracas'])"
   ]
  },
  {
   "cell_type": "code",
   "execution_count": 13,
   "metadata": {
    "ExecuteTime": {
     "end_time": "2018-12-26T13:04:57.220471Z",
     "start_time": "2018-12-26T13:04:57.191392Z"
    }
   },
   "outputs": [
    {
     "data": {
      "application/vnd.jupyter.widget-view+json": {
       "model_id": "1470bbdc543e42d291fcf0553182027d",
       "version_major": 2,
       "version_minor": 0
      },
      "text/plain": [
       "HTML(value='<!DOCTYPE html>\\n<html lang=\"en\">\\n<head>\\n    <meta charset=\"UTF-8\">\\n    <title>Concordancia</ti…"
      ]
     },
     "metadata": {},
     "output_type": "display_data"
    }
   ],
   "source": [
    "package.check_concordance(['japonés', 'japones'])"
   ]
  },
  {
   "cell_type": "code",
   "execution_count": 14,
   "metadata": {
    "ExecuteTime": {
     "end_time": "2018-12-26T13:04:57.278258Z",
     "start_time": "2018-12-26T13:04:57.223078Z"
    }
   },
   "outputs": [
    {
     "data": {
      "application/vnd.jupyter.widget-view+json": {
       "model_id": "465d568084fe4dfc9c678474bc05651b",
       "version_major": 2,
       "version_minor": 0
      },
      "text/plain": [
       "HTML(value='<!DOCTYPE html>\\n<html lang=\"en\">\\n<head>\\n    <meta charset=\"UTF-8\">\\n    <title>Concordancia</ti…"
      ]
     },
     "metadata": {},
     "output_type": "display_data"
    }
   ],
   "source": [
    "package.check_concordance(['el(*)de'])"
   ]
  },
  {
   "cell_type": "code",
   "execution_count": 15,
   "metadata": {
    "ExecuteTime": {
     "end_time": "2018-12-26T13:04:57.322676Z",
     "start_time": "2018-12-26T13:04:57.280505Z"
    }
   },
   "outputs": [
    {
     "data": {
      "application/vnd.jupyter.widget-view+json": {
       "model_id": "36b86c050dd2436e86100c71297bab8c",
       "version_major": 2,
       "version_minor": 0
      },
      "text/plain": [
       "HTML(value='<!DOCTYPE html>\\n<html lang=\"en\">\\n<head>\\n    <meta charset=\"UTF-8\">\\n    <title>Concordancia</ti…"
      ]
     },
     "metadata": {},
     "output_type": "display_data"
    }
   ],
   "source": [
    "package.check_concordance(['el(*3)de','dedo'])"
   ]
  },
  {
   "cell_type": "code",
   "execution_count": 16,
   "metadata": {
    "ExecuteTime": {
     "end_time": "2018-12-26T13:04:57.345834Z",
     "start_time": "2018-12-26T13:04:57.324531Z"
    }
   },
   "outputs": [
    {
     "data": {
      "application/vnd.jupyter.widget-view+json": {
       "model_id": "2410ff12fe154274a0e6a2436fc231cc",
       "version_major": 2,
       "version_minor": 0
      },
      "text/plain": [
       "HTML(value='<!DOCTYPE html>\\n<html lang=\"en\">\\n<head>\\n    <meta charset=\"UTF-8\">\\n    <title>Concordancia</ti…"
      ]
     },
     "metadata": {},
     "output_type": "display_data"
    }
   ],
   "source": [
    "package.check_concordance(['el mejor','dedo'])"
   ]
  },
  {
   "cell_type": "markdown",
   "metadata": {},
   "source": [
    "El siguiente ejemplo busca una palabra que es usada en la definicion del diccionario para la palabra \"*abierto*\". La definicion dice: \n",
    "> Que permite el acceso a su interior"
   ]
  },
  {
   "cell_type": "code",
   "execution_count": 17,
   "metadata": {
    "ExecuteTime": {
     "end_time": "2018-12-26T13:04:57.360871Z",
     "start_time": "2018-12-26T13:04:57.348234Z"
    }
   },
   "outputs": [
    {
     "data": {
      "application/vnd.jupyter.widget-view+json": {
       "model_id": "f8970489750b418db80b6fc19c2cedc6",
       "version_major": 2,
       "version_minor": 0
      },
      "text/plain": [
       "HTML(value='<!DOCTYPE html>\\n<html lang=\"en\">\\n<head>\\n    <meta charset=\"UTF-8\">\\n    <title>Concordancia</ti…"
      ]
     },
     "metadata": {},
     "output_type": "display_data"
    }
   ],
   "source": [
    "package.check_concordance(['acceso'])"
   ]
  },
  {
   "cell_type": "markdown",
   "metadata": {},
   "source": [
    "## Lexicalización\n",
    "\n",
    "### Recordatorios \n",
    "* Botón \"Reiniciar\" para borrar todo y empezar de nuevo.\n",
    "* Botón \"Buscar Lemma\" para buscar definiciones en distintas fuentes.\n",
    "* Pulsa sobre el nombre de la fuente para ver su contenido.\n",
    "* Fuentes de definiciones son limitadas por el idioma seleccionado.\n",
    "* Botón \"check\" para aplicar paradigma morfológico seleccionado.\n",
    "* Botón \"Concordancia\" para mostrar chequeo de concordancia dentro del lexicalization widget.\n",
    "* Botón \"Agregar Definiciones al final\" para agregar las definiciones al final del diccionario.\n",
    "* Botón \"Crear Diccionario nuevo\" para crear nuevo sheet con las nuevas definiciones al final.\n",
    "\n"
   ]
  },
  {
   "cell_type": "code",
   "execution_count": 18,
   "metadata": {
    "ExecuteTime": {
     "end_time": "2018-12-26T13:04:57.476283Z",
     "start_time": "2018-12-26T13:04:57.362786Z"
    }
   },
   "outputs": [
    {
     "data": {
      "application/vnd.jupyter.widget-view+json": {
       "model_id": "4ad6edd0bab14d128ce7eeec06c0e35e",
       "version_major": 2,
       "version_minor": 0
      },
      "text/plain": [
       "VBox(children=(Button(description='Reiniciar', icon='check', layout=Layout(width='900px'), style=ButtonStyle()…"
      ]
     },
     "metadata": {},
     "output_type": "display_data"
    }
   ],
   "source": [
    "package.show_lexicalization_widget()"
   ]
  },
  {
   "cell_type": "code",
   "execution_count": 19,
   "metadata": {
    "ExecuteTime": {
     "end_time": "2018-12-26T13:04:57.498736Z",
     "start_time": "2018-12-26T13:04:57.478504Z"
    },
    "hide_input": true,
    "scrolled": true
   },
   "outputs": [
    {
     "data": {
      "text/html": [
       "<div>\n",
       "<style scoped>\n",
       "    .dataframe tbody tr th:only-of-type {\n",
       "        vertical-align: middle;\n",
       "    }\n",
       "\n",
       "    .dataframe tbody tr th {\n",
       "        vertical-align: top;\n",
       "    }\n",
       "\n",
       "    .dataframe thead th {\n",
       "        text-align: right;\n",
       "    }\n",
       "</style>\n",
       "<table border=\"1\" class=\"dataframe\">\n",
       "  <thead>\n",
       "    <tr style=\"text-align: right;\">\n",
       "      <th></th>\n",
       "      <th>a</th>\n",
       "      <th>e</th>\n",
       "      <th>h</th>\n",
       "      <th>i</th>\n",
       "      <th>m</th>\n",
       "      <th>o</th>\n",
       "      <th>p</th>\n",
       "      <th>r</th>\n",
       "      <th>s</th>\n",
       "      <th>v</th>\n",
       "    </tr>\n",
       "  </thead>\n",
       "  <tbody>\n",
       "    <tr>\n",
       "      <th>0</th>\n",
       "      <td>acceso | 0.14</td>\n",
       "      <td>encarga | 0.14</td>\n",
       "      <td>hoja | 0.28</td>\n",
       "      <td>inmediato | 0.28</td>\n",
       "      <td>marco | 0.28</td>\n",
       "      <td>oculto | 0.28</td>\n",
       "      <td>patente | 0.14</td>\n",
       "      <td>resignadamente | 0.14</td>\n",
       "      <td>sacrificio | 0.14</td>\n",
       "      <td>ventana | 0.28</td>\n",
       "    </tr>\n",
       "    <tr>\n",
       "      <th>1</th>\n",
       "      <td>acontezca | 0.14</td>\n",
       "      <td></td>\n",
       "      <td>hojas | 0.28</td>\n",
       "      <td>interior | 0.14</td>\n",
       "      <td>molestia | 0.14</td>\n",
       "      <td>oposición | 0.14</td>\n",
       "      <td>privación | 0.14</td>\n",
       "      <td></td>\n",
       "      <td>separar | 0.28</td>\n",
       "      <td>voluntariamente | 0.28</td>\n",
       "    </tr>\n",
       "    <tr>\n",
       "      <th>2</th>\n",
       "      <td>aprobar | 0.14</td>\n",
       "      <td></td>\n",
       "      <td></td>\n",
       "      <td></td>\n",
       "      <td></td>\n",
       "      <td></td>\n",
       "      <td>próximo | 0.28</td>\n",
       "      <td></td>\n",
       "      <td></td>\n",
       "      <td></td>\n",
       "    </tr>\n",
       "    <tr>\n",
       "      <th>3</th>\n",
       "      <td>asumir | 0.14</td>\n",
       "      <td></td>\n",
       "      <td></td>\n",
       "      <td></td>\n",
       "      <td></td>\n",
       "      <td></td>\n",
       "      <td></td>\n",
       "      <td></td>\n",
       "      <td></td>\n",
       "      <td></td>\n",
       "    </tr>\n",
       "  </tbody>\n",
       "</table>\n",
       "</div>"
      ],
      "text/plain": [
       "                  a               e             h                 i  \\\n",
       "0     acceso | 0.14  encarga | 0.14   hoja | 0.28  inmediato | 0.28   \n",
       "1  acontezca | 0.14                  hojas | 0.28   interior | 0.14   \n",
       "2    aprobar | 0.14                                                   \n",
       "3     asumir | 0.14                                                   \n",
       "\n",
       "                 m                 o                 p                      r  \\\n",
       "0     marco | 0.28     oculto | 0.28    patente | 0.14  resignadamente | 0.14   \n",
       "1  molestia | 0.14  oposición | 0.14  privación | 0.14                          \n",
       "2                                       próximo | 0.28                          \n",
       "3                                                                               \n",
       "\n",
       "                   s                       v  \n",
       "0  sacrificio | 0.14          ventana | 0.28  \n",
       "1     separar | 0.28  voluntariamente | 0.28  \n",
       "2                                             \n",
       "3                                             "
      ]
     },
     "execution_count": 19,
     "metadata": {},
     "output_type": "execute_result"
    }
   ],
   "source": [
    "package.get_pending_words_table('es', 1)"
   ]
  },
  {
   "cell_type": "markdown",
   "metadata": {
    "toc-hr-collapsed": false
   },
   "source": [
    "## Anotado"
   ]
  },
  {
   "cell_type": "markdown",
   "metadata": {},
   "source": [
    "### Notas\n",
    "1. El orden de anotado en el widget es en funcion de las dimensiones y  es el mismo definido en el standar -> definitions -> definition-class. \n",
    "Si se selecciona para anotar una dimension y la anterior a esta no ha sido anotada, el widget automáticamente \n",
    "colocara para anotar la ultima dimension valida. \n",
    "\n",
    "2. Se pueden definir restituciones para un evento. Esto se puede hacer solo para la primera dimension en la lista\n",
    "del orden, de esa manera las siguientes anotaciones ya incluyen la restitucion. ingresar restitucion y hacer click en `guardar restitucion`\n",
    "\n",
    "3. Se debe hacer click en `guardar anotacion` siempre. Agregar una etiqueta o arco no persiste la información"
   ]
  },
  {
   "cell_type": "code",
   "execution_count": 20,
   "metadata": {
    "ExecuteTime": {
     "end_time": "2018-12-26T13:05:00.853918Z",
     "start_time": "2018-12-26T13:05:00.837097Z"
    },
    "scrolled": true
   },
   "outputs": [
    {
     "data": {
      "application/vnd.jupyter.widget-view+json": {
       "model_id": "6cfcedb69b0b4f298c4e79eb936c1d03",
       "version_major": 2,
       "version_minor": 0
      },
      "text/plain": [
       "VBox(children=(Dropdown(description='select corpus:', index=5, layout=Layout(width='500px'), options={'corpus_…"
      ]
     },
     "metadata": {},
     "output_type": "display_data"
    }
   ],
   "source": [
    "annotation_widget = package.show_annotation_widget()\n",
    "display(annotation_widget)"
   ]
  },
  {
   "cell_type": "code",
   "execution_count": 21,
   "metadata": {
    "ExecuteTime": {
     "end_time": "2018-12-26T13:05:00.871064Z",
     "start_time": "2018-12-26T13:05:00.856349Z"
    }
   },
   "outputs": [
    {
     "data": {
      "application/vnd.jupyter.widget-view+json": {
       "model_id": "96398812620c499f9d85f19ccc8940c9",
       "version_major": 2,
       "version_minor": 0
      },
      "text/plain": [
       "VBox(children=(Dropdown(description='select pos pardigm:', index=8, layout=Layout(width='600px'), options={'es…"
      ]
     },
     "metadata": {},
     "output_type": "display_data"
    }
   ],
   "source": [
    "functionals_help_widget = package.show_functionals_help_widget()\n",
    "display(functionals_help_widget)"
   ]
  },
  {
   "cell_type": "code",
   "execution_count": 22,
   "metadata": {
    "ExecuteTime": {
     "end_time": "2018-12-26T13:05:00.904309Z",
     "start_time": "2018-12-26T13:05:00.872525Z"
    }
   },
   "outputs": [
    {
     "data": {
      "application/vnd.jupyter.widget-view+json": {
       "model_id": "9191471550a2440ca2ef96abf7383142",
       "version_major": 2,
       "version_minor": 0
      },
      "text/plain": [
       "VBox(children=(HBox(children=(Checkbox(value=False, description='eventos validos'), Checkbox(value=False, desc…"
      ]
     },
     "metadata": {},
     "output_type": "display_data"
    }
   ],
   "source": [
    "display(package.show_annotations_validator_widget())"
   ]
  },
  {
   "cell_type": "code",
   "execution_count": 23,
   "metadata": {
    "ExecuteTime": {
     "end_time": "2018-12-26T13:05:00.921955Z",
     "start_time": "2018-12-26T13:05:00.906430Z"
    }
   },
   "outputs": [
    {
     "data": {
      "application/vnd.jupyter.widget-view+json": {
       "model_id": "db79eccc592c4db39534246f268be1de",
       "version_major": 2,
       "version_minor": 0
      },
      "text/plain": [
       "VBox(children=(Dropdown(description='select corpus:', index=5, layout=Layout(width='500px'), options={'corpus_…"
      ]
     },
     "metadata": {},
     "output_type": "display_data"
    }
   ],
   "source": [
    "package.show_invalid_spans_table()"
   ]
  },
  {
   "cell_type": "markdown",
   "metadata": {},
   "source": [
    "## Desambiguación"
   ]
  },
  {
   "cell_type": "code",
   "execution_count": 24,
   "metadata": {
    "ExecuteTime": {
     "end_time": "2018-12-26T13:05:00.939515Z",
     "start_time": "2018-12-26T13:05:00.923910Z"
    }
   },
   "outputs": [
    {
     "data": {
      "application/vnd.jupyter.widget-view+json": {
       "model_id": "891cf5e99ca7440da3b6c24d47fa7e57",
       "version_major": 2,
       "version_minor": 0
      },
      "text/plain": [
       "VBox(children=(Dropdown(description='select corpus:', index=5, layout=Layout(width='500px'), options={'corpus_…"
      ]
     },
     "metadata": {},
     "output_type": "display_data"
    }
   ],
   "source": [
    "package.show_disambiguation_widget()"
   ]
  },
  {
   "cell_type": "markdown",
   "metadata": {},
   "source": [
    "## Data personalizada"
   ]
  },
  {
   "cell_type": "code",
   "execution_count": 26,
   "metadata": {
    "ExecuteTime": {
     "end_time": "2018-12-26T13:05:03.576321Z",
     "start_time": "2018-12-26T13:05:03.130013Z"
    }
   },
   "outputs": [
    {
     "data": {
      "text/html": [
       "<div>\n",
       "<style scoped>\n",
       "    .dataframe tbody tr th:only-of-type {\n",
       "        vertical-align: middle;\n",
       "    }\n",
       "\n",
       "    .dataframe tbody tr th {\n",
       "        vertical-align: top;\n",
       "    }\n",
       "\n",
       "    .dataframe thead th {\n",
       "        text-align: right;\n",
       "    }\n",
       "</style>\n",
       "<table border=\"1\" class=\"dataframe\">\n",
       "  <thead>\n",
       "    <tr style=\"text-align: right;\">\n",
       "      <th></th>\n",
       "      <th>Identificación de oración/anotador</th>\n",
       "      <th>Isabel</th>\n",
       "      <th>Génesis</th>\n",
       "      <th>Hillary</th>\n",
       "      <th>Miguel</th>\n",
       "      <th>Yeneiza</th>\n",
       "      <th>Promedio por oración</th>\n",
       "    </tr>\n",
       "  </thead>\n",
       "  <tbody>\n",
       "    <tr>\n",
       "      <th>0</th>\n",
       "      <td>1-0-0</td>\n",
       "      <td>100</td>\n",
       "      <td>100.0</td>\n",
       "      <td>92.3</td>\n",
       "      <td>96.2</td>\n",
       "      <td>96.2</td>\n",
       "      <td>96.2</td>\n",
       "    </tr>\n",
       "    <tr>\n",
       "      <th>1</th>\n",
       "      <td>10-0-0</td>\n",
       "      <td>100</td>\n",
       "      <td>96.6</td>\n",
       "      <td>76.7</td>\n",
       "      <td>89.7</td>\n",
       "      <td>86.2</td>\n",
       "      <td>87.3</td>\n",
       "    </tr>\n",
       "    <tr>\n",
       "      <th>2</th>\n",
       "      <td>11-0-0</td>\n",
       "      <td>100</td>\n",
       "      <td>100.0</td>\n",
       "      <td>80.0</td>\n",
       "      <td>96.6</td>\n",
       "      <td>100.0</td>\n",
       "      <td>94.1</td>\n",
       "    </tr>\n",
       "    <tr>\n",
       "      <th>3</th>\n",
       "      <td>12-0-0</td>\n",
       "      <td>100</td>\n",
       "      <td>100.0</td>\n",
       "      <td>84.6</td>\n",
       "      <td>100.0</td>\n",
       "      <td>100.0</td>\n",
       "      <td>96.2</td>\n",
       "    </tr>\n",
       "    <tr>\n",
       "      <th>4</th>\n",
       "      <td>13-0-0</td>\n",
       "      <td>100</td>\n",
       "      <td>100.0</td>\n",
       "      <td>86.2</td>\n",
       "      <td>100.0</td>\n",
       "      <td>82.1</td>\n",
       "      <td>92.1</td>\n",
       "    </tr>\n",
       "    <tr>\n",
       "      <th>5</th>\n",
       "      <td>14-0-0</td>\n",
       "      <td>100</td>\n",
       "      <td>97.0</td>\n",
       "      <td>65.7</td>\n",
       "      <td>70.3</td>\n",
       "      <td>83.3</td>\n",
       "      <td>79.1</td>\n",
       "    </tr>\n",
       "    <tr>\n",
       "      <th>6</th>\n",
       "      <td>15-0-0</td>\n",
       "      <td>100</td>\n",
       "      <td>100.0</td>\n",
       "      <td>79.9</td>\n",
       "      <td>100.0</td>\n",
       "      <td></td>\n",
       "      <td>93.3</td>\n",
       "    </tr>\n",
       "    <tr>\n",
       "      <th>7</th>\n",
       "      <td>16-0-0</td>\n",
       "      <td>100</td>\n",
       "      <td>82.5</td>\n",
       "      <td>78.6</td>\n",
       "      <td>78.6</td>\n",
       "      <td>65.1</td>\n",
       "      <td>76.2</td>\n",
       "    </tr>\n",
       "    <tr>\n",
       "      <th>8</th>\n",
       "      <td>17-0-0</td>\n",
       "      <td>100</td>\n",
       "      <td>90.3</td>\n",
       "      <td>59.4</td>\n",
       "      <td>43.8</td>\n",
       "      <td>58.3</td>\n",
       "      <td>62.9</td>\n",
       "    </tr>\n",
       "    <tr>\n",
       "      <th>9</th>\n",
       "      <td>18-0-0</td>\n",
       "      <td>100</td>\n",
       "      <td>100.0</td>\n",
       "      <td>82.1</td>\n",
       "      <td>92.9</td>\n",
       "      <td></td>\n",
       "      <td>91.7</td>\n",
       "    </tr>\n",
       "    <tr>\n",
       "      <th>10</th>\n",
       "      <td>19-0-0</td>\n",
       "      <td>100</td>\n",
       "      <td>76.5</td>\n",
       "      <td>68.6</td>\n",
       "      <td>64.7</td>\n",
       "      <td>81.8</td>\n",
       "      <td>72.9</td>\n",
       "    </tr>\n",
       "    <tr>\n",
       "      <th>11</th>\n",
       "      <td>2-0-0</td>\n",
       "      <td>100</td>\n",
       "      <td>100.0</td>\n",
       "      <td>96.0</td>\n",
       "      <td>100.0</td>\n",
       "      <td>88.0</td>\n",
       "      <td>96.0</td>\n",
       "    </tr>\n",
       "    <tr>\n",
       "      <th>12</th>\n",
       "      <td>3-0-0</td>\n",
       "      <td>100</td>\n",
       "      <td>100.0</td>\n",
       "      <td>88.9</td>\n",
       "      <td>83.8</td>\n",
       "      <td>77.8</td>\n",
       "      <td>87.6</td>\n",
       "    </tr>\n",
       "    <tr>\n",
       "      <th>13</th>\n",
       "      <td>4-0-0</td>\n",
       "      <td>100</td>\n",
       "      <td>58.5</td>\n",
       "      <td>66.7</td>\n",
       "      <td>74.3</td>\n",
       "      <td>71.4</td>\n",
       "      <td>67.7</td>\n",
       "    </tr>\n",
       "    <tr>\n",
       "      <th>14</th>\n",
       "      <td>5-0-0</td>\n",
       "      <td>100</td>\n",
       "      <td>90.0</td>\n",
       "      <td>80.0</td>\n",
       "      <td>93.1</td>\n",
       "      <td>100.0</td>\n",
       "      <td>90.8</td>\n",
       "    </tr>\n",
       "    <tr>\n",
       "      <th>15</th>\n",
       "      <td>6-0-0</td>\n",
       "      <td>100</td>\n",
       "      <td>76.5</td>\n",
       "      <td>74.3</td>\n",
       "      <td>71.4</td>\n",
       "      <td>54.1</td>\n",
       "      <td>69.1</td>\n",
       "    </tr>\n",
       "    <tr>\n",
       "      <th>16</th>\n",
       "      <td>7-0-0</td>\n",
       "      <td>100</td>\n",
       "      <td>94.3</td>\n",
       "      <td>91.4</td>\n",
       "      <td>83.8</td>\n",
       "      <td>94.4</td>\n",
       "      <td>91.0</td>\n",
       "    </tr>\n",
       "    <tr>\n",
       "      <th>17</th>\n",
       "      <td>8-0-0</td>\n",
       "      <td>100</td>\n",
       "      <td>85.7</td>\n",
       "      <td>77.8</td>\n",
       "      <td>82.1</td>\n",
       "      <td>92.9</td>\n",
       "      <td>84.6</td>\n",
       "    </tr>\n",
       "    <tr>\n",
       "      <th>18</th>\n",
       "      <td>9-0-0</td>\n",
       "      <td>100</td>\n",
       "      <td>100.0</td>\n",
       "      <td>88.9</td>\n",
       "      <td>100.0</td>\n",
       "      <td>96.7</td>\n",
       "      <td>96.4</td>\n",
       "    </tr>\n",
       "    <tr>\n",
       "      <th>19</th>\n",
       "      <td>21-0-0</td>\n",
       "      <td>100</td>\n",
       "      <td>90.3</td>\n",
       "      <td>78.1</td>\n",
       "      <td>70.6</td>\n",
       "      <td></td>\n",
       "      <td>79.7</td>\n",
       "    </tr>\n",
       "    <tr>\n",
       "      <th>20</th>\n",
       "      <td>23-0-0</td>\n",
       "      <td>100</td>\n",
       "      <td>92.3</td>\n",
       "      <td>76.0</td>\n",
       "      <td>92.3</td>\n",
       "      <td></td>\n",
       "      <td>86.9</td>\n",
       "    </tr>\n",
       "    <tr>\n",
       "      <th>21</th>\n",
       "      <td>24-0-0</td>\n",
       "      <td>100</td>\n",
       "      <td>80.6</td>\n",
       "      <td>83.9</td>\n",
       "      <td>100.0</td>\n",
       "      <td></td>\n",
       "      <td>88.2</td>\n",
       "    </tr>\n",
       "    <tr>\n",
       "      <th>22</th>\n",
       "      <td>25-0-0</td>\n",
       "      <td>100</td>\n",
       "      <td>72.2</td>\n",
       "      <td>80.0</td>\n",
       "      <td>91.4</td>\n",
       "      <td></td>\n",
       "      <td>81.2</td>\n",
       "    </tr>\n",
       "    <tr>\n",
       "      <th>23</th>\n",
       "      <td>26-0-0</td>\n",
       "      <td>100</td>\n",
       "      <td>77.8</td>\n",
       "      <td>84.6</td>\n",
       "      <td>92.3</td>\n",
       "      <td></td>\n",
       "      <td>84.9</td>\n",
       "    </tr>\n",
       "    <tr>\n",
       "      <th>24</th>\n",
       "      <td></td>\n",
       "      <td></td>\n",
       "      <td>90.0</td>\n",
       "      <td>80.0</td>\n",
       "      <td>86.2</td>\n",
       "      <td>84.0</td>\n",
       "      <td></td>\n",
       "    </tr>\n",
       "  </tbody>\n",
       "</table>\n",
       "</div>"
      ],
      "text/plain": [
       "   Identificación de oración/anotador Isabel Génesis Hillary Miguel Yeneiza  \\\n",
       "0                               1-0-0    100   100.0    92.3   96.2    96.2   \n",
       "1                              10-0-0    100    96.6    76.7   89.7    86.2   \n",
       "2                              11-0-0    100   100.0    80.0   96.6   100.0   \n",
       "3                              12-0-0    100   100.0    84.6  100.0   100.0   \n",
       "4                              13-0-0    100   100.0    86.2  100.0    82.1   \n",
       "5                              14-0-0    100    97.0    65.7   70.3    83.3   \n",
       "6                              15-0-0    100   100.0    79.9  100.0           \n",
       "7                              16-0-0    100    82.5    78.6   78.6    65.1   \n",
       "8                              17-0-0    100    90.3    59.4   43.8    58.3   \n",
       "9                              18-0-0    100   100.0    82.1   92.9           \n",
       "10                             19-0-0    100    76.5    68.6   64.7    81.8   \n",
       "11                              2-0-0    100   100.0    96.0  100.0    88.0   \n",
       "12                              3-0-0    100   100.0    88.9   83.8    77.8   \n",
       "13                              4-0-0    100    58.5    66.7   74.3    71.4   \n",
       "14                              5-0-0    100    90.0    80.0   93.1   100.0   \n",
       "15                              6-0-0    100    76.5    74.3   71.4    54.1   \n",
       "16                              7-0-0    100    94.3    91.4   83.8    94.4   \n",
       "17                              8-0-0    100    85.7    77.8   82.1    92.9   \n",
       "18                              9-0-0    100   100.0    88.9  100.0    96.7   \n",
       "19                             21-0-0    100    90.3    78.1   70.6           \n",
       "20                             23-0-0    100    92.3    76.0   92.3           \n",
       "21                             24-0-0    100    80.6    83.9  100.0           \n",
       "22                             25-0-0    100    72.2    80.0   91.4           \n",
       "23                             26-0-0    100    77.8    84.6   92.3           \n",
       "24                                              90.0    80.0   86.2    84.0   \n",
       "\n",
       "   Promedio por oración  \n",
       "0                  96.2  \n",
       "1                  87.3  \n",
       "2                  94.1  \n",
       "3                  96.2  \n",
       "4                  92.1  \n",
       "5                  79.1  \n",
       "6                  93.3  \n",
       "7                  76.2  \n",
       "8                  62.9  \n",
       "9                  91.7  \n",
       "10                 72.9  \n",
       "11                 96.0  \n",
       "12                 87.6  \n",
       "13                 67.7  \n",
       "14                 90.8  \n",
       "15                 69.1  \n",
       "16                 91.0  \n",
       "17                 84.6  \n",
       "18                 96.4  \n",
       "19                 79.7  \n",
       "20                 86.9  \n",
       "21                 88.2  \n",
       "22                 81.2  \n",
       "23                 84.9  \n",
       "24                       "
      ]
     },
     "execution_count": 26,
     "metadata": {},
     "output_type": "execute_result"
    }
   ],
   "source": [
    "package.get_custom_table('19SM9s_RfFXi8BbEPrLjBboOEyrsBl69mniJyUArvQns', 'Medida_de_acuerdo', 'A1', 'G27', False)"
   ]
  },
  {
   "cell_type": "markdown",
   "metadata": {
    "toc-hr-collapsed": false
   },
   "source": [
    "## Conocimiento - Red Semantica"
   ]
  },
  {
   "cell_type": "code",
   "execution_count": 25,
   "metadata": {
    "ExecuteTime": {
     "end_time": "2018-12-26T13:05:03.009391Z",
     "start_time": "2018-12-26T13:05:00.941794Z"
    }
   },
   "outputs": [
    {
     "ename": "ExecutableNotFound",
     "evalue": "failed to execute ['dot', '-Tpng', '-O', 'MammutGraph.gv'], make sure the Graphviz executables are on your systems' PATH",
     "output_type": "error",
     "traceback": [
      "\u001b[0;31m---------------------------------------------------------------------------\u001b[0m",
      "\u001b[0;31mFileNotFoundError\u001b[0m                         Traceback (most recent call last)",
      "\u001b[0;32m~/venvs/mm-py36-tf15-t1/lib/python3.6/site-packages/graphviz/backend.py\u001b[0m in \u001b[0;36mrun\u001b[0;34m(cmd, input, capture_output, check, encoding, quiet, **kwargs)\u001b[0m\n\u001b[1;32m    163\u001b[0m     \u001b[0;32mtry\u001b[0m\u001b[0;34m:\u001b[0m\u001b[0;34m\u001b[0m\u001b[0;34m\u001b[0m\u001b[0m\n\u001b[0;32m--> 164\u001b[0;31m         \u001b[0mproc\u001b[0m \u001b[0;34m=\u001b[0m \u001b[0msubprocess\u001b[0m\u001b[0;34m.\u001b[0m\u001b[0mPopen\u001b[0m\u001b[0;34m(\u001b[0m\u001b[0mcmd\u001b[0m\u001b[0;34m,\u001b[0m \u001b[0mstartupinfo\u001b[0m\u001b[0;34m=\u001b[0m\u001b[0mget_startupinfo\u001b[0m\u001b[0;34m(\u001b[0m\u001b[0;34m)\u001b[0m\u001b[0;34m,\u001b[0m \u001b[0;34m**\u001b[0m\u001b[0mkwargs\u001b[0m\u001b[0;34m)\u001b[0m\u001b[0;34m\u001b[0m\u001b[0;34m\u001b[0m\u001b[0m\n\u001b[0m\u001b[1;32m    165\u001b[0m     \u001b[0;32mexcept\u001b[0m \u001b[0mOSError\u001b[0m \u001b[0;32mas\u001b[0m \u001b[0me\u001b[0m\u001b[0;34m:\u001b[0m\u001b[0;34m\u001b[0m\u001b[0;34m\u001b[0m\u001b[0m\n",
      "\u001b[0;32m~/.pyenv/versions/3.6.9/lib/python3.6/subprocess.py\u001b[0m in \u001b[0;36m__init__\u001b[0;34m(self, args, bufsize, executable, stdin, stdout, stderr, preexec_fn, close_fds, shell, cwd, env, universal_newlines, startupinfo, creationflags, restore_signals, start_new_session, pass_fds, encoding, errors)\u001b[0m\n\u001b[1;32m    728\u001b[0m                                 \u001b[0merrread\u001b[0m\u001b[0;34m,\u001b[0m \u001b[0merrwrite\u001b[0m\u001b[0;34m,\u001b[0m\u001b[0;34m\u001b[0m\u001b[0;34m\u001b[0m\u001b[0m\n\u001b[0;32m--> 729\u001b[0;31m                                 restore_signals, start_new_session)\n\u001b[0m\u001b[1;32m    730\u001b[0m         \u001b[0;32mexcept\u001b[0m\u001b[0;34m:\u001b[0m\u001b[0;34m\u001b[0m\u001b[0;34m\u001b[0m\u001b[0m\n",
      "\u001b[0;32m~/.pyenv/versions/3.6.9/lib/python3.6/subprocess.py\u001b[0m in \u001b[0;36m_execute_child\u001b[0;34m(self, args, executable, preexec_fn, close_fds, pass_fds, cwd, env, startupinfo, creationflags, shell, p2cread, p2cwrite, c2pread, c2pwrite, errread, errwrite, restore_signals, start_new_session)\u001b[0m\n\u001b[1;32m   1363\u001b[0m                             \u001b[0merr_msg\u001b[0m \u001b[0;34m+=\u001b[0m \u001b[0;34m': '\u001b[0m \u001b[0;34m+\u001b[0m \u001b[0mrepr\u001b[0m\u001b[0;34m(\u001b[0m\u001b[0merr_filename\u001b[0m\u001b[0;34m)\u001b[0m\u001b[0;34m\u001b[0m\u001b[0;34m\u001b[0m\u001b[0m\n\u001b[0;32m-> 1364\u001b[0;31m                     \u001b[0;32mraise\u001b[0m \u001b[0mchild_exception_type\u001b[0m\u001b[0;34m(\u001b[0m\u001b[0merrno_num\u001b[0m\u001b[0;34m,\u001b[0m \u001b[0merr_msg\u001b[0m\u001b[0;34m,\u001b[0m \u001b[0merr_filename\u001b[0m\u001b[0;34m)\u001b[0m\u001b[0;34m\u001b[0m\u001b[0;34m\u001b[0m\u001b[0m\n\u001b[0m\u001b[1;32m   1365\u001b[0m                 \u001b[0;32mraise\u001b[0m \u001b[0mchild_exception_type\u001b[0m\u001b[0;34m(\u001b[0m\u001b[0merr_msg\u001b[0m\u001b[0;34m)\u001b[0m\u001b[0;34m\u001b[0m\u001b[0;34m\u001b[0m\u001b[0m\n",
      "\u001b[0;31mFileNotFoundError\u001b[0m: [Errno 2] No such file or directory: 'dot': 'dot'",
      "\nDuring handling of the above exception, another exception occurred:\n",
      "\u001b[0;31mExecutableNotFound\u001b[0m                        Traceback (most recent call last)",
      "\u001b[0;32m<ipython-input-25-ee995f92b6a1>\u001b[0m in \u001b[0;36m<module>\u001b[0;34m\u001b[0m\n\u001b[1;32m      1\u001b[0m \u001b[0;32mfrom\u001b[0m \u001b[0mmammut\u001b[0m\u001b[0;34m.\u001b[0m\u001b[0mcommon\u001b[0m\u001b[0;34m.\u001b[0m\u001b[0mmammutGraph\u001b[0m \u001b[0;32mimport\u001b[0m \u001b[0;34m*\u001b[0m\u001b[0;34m\u001b[0m\u001b[0;34m\u001b[0m\u001b[0m\n\u001b[0;32m----> 2\u001b[0;31m \u001b[0mmg\u001b[0m \u001b[0;34m=\u001b[0m \u001b[0mMammutGraph\u001b[0m\u001b[0;34m(\u001b[0m\u001b[0;34m'1iOqKaBh_8XX1QDkWgJcOhB0xDlJx-0gsCONGBZLZXyA'\u001b[0m\u001b[0;34m,\u001b[0m \u001b[0;34m'p'\u001b[0m\u001b[0;34m)\u001b[0m\u001b[0;34m\u001b[0m\u001b[0;34m\u001b[0m\u001b[0m\n\u001b[0m\u001b[1;32m      3\u001b[0m \u001b[0mmg\u001b[0m\u001b[0;34m.\u001b[0m\u001b[0mview\u001b[0m\u001b[0;34m(\u001b[0m\u001b[0;34m)\u001b[0m\u001b[0;34m\u001b[0m\u001b[0;34m\u001b[0m\u001b[0m\n",
      "\u001b[0;32m~/Library/Mobile Documents/com~apple~CloudDocs/code/git/mammut-framework/src/mammut/common/mammutGraph.py\u001b[0m in \u001b[0;36m__init__\u001b[0;34m(self, spreadsheet_id, package_name)\u001b[0m\n\u001b[1;32m     45\u001b[0m         \u001b[0mself\u001b[0m\u001b[0;34m.\u001b[0m\u001b[0mproperties_dict\u001b[0m \u001b[0;34m=\u001b[0m \u001b[0;34m{\u001b[0m\u001b[0;34m}\u001b[0m\u001b[0;34m\u001b[0m\u001b[0;34m\u001b[0m\u001b[0m\n\u001b[1;32m     46\u001b[0m         \u001b[0mself\u001b[0m\u001b[0;34m.\u001b[0m\u001b[0mgraph\u001b[0m \u001b[0;34m=\u001b[0m \u001b[0mGraph\u001b[0m\u001b[0;34m(\u001b[0m\u001b[0;34m\"G\"\u001b[0m\u001b[0;34m,\u001b[0m \u001b[0mfilename\u001b[0m\u001b[0;34m=\u001b[0m\u001b[0;34m\"MammutGraph.gv\"\u001b[0m\u001b[0;34m,\u001b[0m \u001b[0mformat\u001b[0m\u001b[0;34m=\u001b[0m\u001b[0;34m\"png\"\u001b[0m\u001b[0;34m)\u001b[0m\u001b[0;34m\u001b[0m\u001b[0;34m\u001b[0m\u001b[0m\n\u001b[0;32m---> 47\u001b[0;31m         \u001b[0mself\u001b[0m\u001b[0;34m.\u001b[0m\u001b[0mload_graph\u001b[0m\u001b[0;34m(\u001b[0m\u001b[0mspreadsheet_id\u001b[0m\u001b[0;34m)\u001b[0m\u001b[0;34m\u001b[0m\u001b[0;34m\u001b[0m\u001b[0m\n\u001b[0m\u001b[1;32m     48\u001b[0m \u001b[0;34m\u001b[0m\u001b[0m\n\u001b[1;32m     49\u001b[0m     \u001b[0;32mdef\u001b[0m \u001b[0mload_graph\u001b[0m\u001b[0;34m(\u001b[0m\u001b[0mself\u001b[0m\u001b[0;34m,\u001b[0m \u001b[0mspreadsheet_id\u001b[0m\u001b[0;34m)\u001b[0m\u001b[0;34m:\u001b[0m\u001b[0;34m\u001b[0m\u001b[0;34m\u001b[0m\u001b[0m\n",
      "\u001b[0;32m~/Library/Mobile Documents/com~apple~CloudDocs/code/git/mammut-framework/src/mammut/common/mammutGraph.py\u001b[0m in \u001b[0;36mload_graph\u001b[0;34m(self, spreadsheet_id)\u001b[0m\n\u001b[1;32m    102\u001b[0m                 )\n\u001b[1;32m    103\u001b[0m \u001b[0;34m\u001b[0m\u001b[0m\n\u001b[0;32m--> 104\u001b[0;31m         \u001b[0mself\u001b[0m\u001b[0;34m.\u001b[0m\u001b[0mgraph\u001b[0m\u001b[0;34m.\u001b[0m\u001b[0mrender\u001b[0m\u001b[0;34m(\u001b[0m\u001b[0;34m\"MammutGraph.gv\"\u001b[0m\u001b[0;34m)\u001b[0m\u001b[0;34m\u001b[0m\u001b[0;34m\u001b[0m\u001b[0m\n\u001b[0m\u001b[1;32m    105\u001b[0m         \u001b[0mos\u001b[0m\u001b[0;34m.\u001b[0m\u001b[0msystem\u001b[0m\u001b[0;34m(\u001b[0m\u001b[0;34m\"mkdir -p ~/temp\"\u001b[0m\u001b[0;34m)\u001b[0m\u001b[0;34m\u001b[0m\u001b[0;34m\u001b[0m\u001b[0m\n\u001b[1;32m    106\u001b[0m         \u001b[0mos\u001b[0m\u001b[0;34m.\u001b[0m\u001b[0msystem\u001b[0m\u001b[0;34m(\u001b[0m\u001b[0;34m\"mv MammutGraph.gv.png ~/temp\"\u001b[0m\u001b[0;34m)\u001b[0m\u001b[0;34m\u001b[0m\u001b[0;34m\u001b[0m\u001b[0m\n",
      "\u001b[0;32m~/venvs/mm-py36-tf15-t1/lib/python3.6/site-packages/graphviz/files.py\u001b[0m in \u001b[0;36mrender\u001b[0;34m(self, filename, directory, view, cleanup, format, renderer, formatter, quiet, quiet_view)\u001b[0m\n\u001b[1;32m    207\u001b[0m         rendered = backend.render(self._engine, format, filepath,\n\u001b[1;32m    208\u001b[0m                                   \u001b[0mrenderer\u001b[0m\u001b[0;34m=\u001b[0m\u001b[0mrenderer\u001b[0m\u001b[0;34m,\u001b[0m \u001b[0mformatter\u001b[0m\u001b[0;34m=\u001b[0m\u001b[0mformatter\u001b[0m\u001b[0;34m,\u001b[0m\u001b[0;34m\u001b[0m\u001b[0;34m\u001b[0m\u001b[0m\n\u001b[0;32m--> 209\u001b[0;31m                                   quiet=quiet)\n\u001b[0m\u001b[1;32m    210\u001b[0m \u001b[0;34m\u001b[0m\u001b[0m\n\u001b[1;32m    211\u001b[0m         \u001b[0;32mif\u001b[0m \u001b[0mcleanup\u001b[0m\u001b[0;34m:\u001b[0m\u001b[0;34m\u001b[0m\u001b[0;34m\u001b[0m\u001b[0m\n",
      "\u001b[0;32m~/venvs/mm-py36-tf15-t1/lib/python3.6/site-packages/graphviz/backend.py\u001b[0m in \u001b[0;36mrender\u001b[0;34m(***failed resolving arguments***)\u001b[0m\n\u001b[1;32m    219\u001b[0m         \u001b[0mcwd\u001b[0m \u001b[0;34m=\u001b[0m \u001b[0;32mNone\u001b[0m\u001b[0;34m\u001b[0m\u001b[0;34m\u001b[0m\u001b[0m\n\u001b[1;32m    220\u001b[0m \u001b[0;34m\u001b[0m\u001b[0m\n\u001b[0;32m--> 221\u001b[0;31m     \u001b[0mrun\u001b[0m\u001b[0;34m(\u001b[0m\u001b[0mcmd\u001b[0m\u001b[0;34m,\u001b[0m \u001b[0mcapture_output\u001b[0m\u001b[0;34m=\u001b[0m\u001b[0;32mTrue\u001b[0m\u001b[0;34m,\u001b[0m \u001b[0mcwd\u001b[0m\u001b[0;34m=\u001b[0m\u001b[0mcwd\u001b[0m\u001b[0;34m,\u001b[0m \u001b[0mcheck\u001b[0m\u001b[0;34m=\u001b[0m\u001b[0;32mTrue\u001b[0m\u001b[0;34m,\u001b[0m \u001b[0mquiet\u001b[0m\u001b[0;34m=\u001b[0m\u001b[0mquiet\u001b[0m\u001b[0;34m)\u001b[0m\u001b[0;34m\u001b[0m\u001b[0;34m\u001b[0m\u001b[0m\n\u001b[0m\u001b[1;32m    222\u001b[0m     \u001b[0;32mreturn\u001b[0m \u001b[0mrendered\u001b[0m\u001b[0;34m\u001b[0m\u001b[0;34m\u001b[0m\u001b[0m\n\u001b[1;32m    223\u001b[0m \u001b[0;34m\u001b[0m\u001b[0m\n",
      "\u001b[0;32m~/venvs/mm-py36-tf15-t1/lib/python3.6/site-packages/graphviz/backend.py\u001b[0m in \u001b[0;36mrun\u001b[0;34m(cmd, input, capture_output, check, encoding, quiet, **kwargs)\u001b[0m\n\u001b[1;32m    165\u001b[0m     \u001b[0;32mexcept\u001b[0m \u001b[0mOSError\u001b[0m \u001b[0;32mas\u001b[0m \u001b[0me\u001b[0m\u001b[0;34m:\u001b[0m\u001b[0;34m\u001b[0m\u001b[0;34m\u001b[0m\u001b[0m\n\u001b[1;32m    166\u001b[0m         \u001b[0;32mif\u001b[0m \u001b[0me\u001b[0m\u001b[0;34m.\u001b[0m\u001b[0merrno\u001b[0m \u001b[0;34m==\u001b[0m \u001b[0merrno\u001b[0m\u001b[0;34m.\u001b[0m\u001b[0mENOENT\u001b[0m\u001b[0;34m:\u001b[0m\u001b[0;34m\u001b[0m\u001b[0;34m\u001b[0m\u001b[0m\n\u001b[0;32m--> 167\u001b[0;31m             \u001b[0;32mraise\u001b[0m \u001b[0mExecutableNotFound\u001b[0m\u001b[0;34m(\u001b[0m\u001b[0mcmd\u001b[0m\u001b[0;34m)\u001b[0m\u001b[0;34m\u001b[0m\u001b[0;34m\u001b[0m\u001b[0m\n\u001b[0m\u001b[1;32m    168\u001b[0m         \u001b[0;32melse\u001b[0m\u001b[0;34m:\u001b[0m\u001b[0;34m\u001b[0m\u001b[0;34m\u001b[0m\u001b[0m\n\u001b[1;32m    169\u001b[0m             \u001b[0;32mraise\u001b[0m\u001b[0;34m\u001b[0m\u001b[0;34m\u001b[0m\u001b[0m\n",
      "\u001b[0;31mExecutableNotFound\u001b[0m: failed to execute ['dot', '-Tpng', '-O', 'MammutGraph.gv'], make sure the Graphviz executables are on your systems' PATH"
     ]
    }
   ],
   "source": [
    "from mammut.common.mammutGraph import *\n",
    "mg = MammutGraph('1iOqKaBh_8XX1QDkWgJcOhB0xDlJx-0gsCONGBZLZXyA', 'p')\n",
    "mg.view()"
   ]
  },
  {
   "cell_type": "code",
   "execution_count": null,
   "metadata": {
    "ExecuteTime": {
     "end_time": "2018-12-26T13:05:03.126643Z",
     "start_time": "2018-12-26T13:05:03.012929Z"
    }
   },
   "outputs": [],
   "source": [
    "mg.view_filtered(['service_point'])"
   ]
  },
  {
   "cell_type": "code",
   "execution_count": null,
   "metadata": {},
   "outputs": [],
   "source": []
  }
 ],
 "metadata": {
  "hide_input": false,
  "kernelspec": {
   "display_name": "Python 3",
   "language": "python",
   "name": "python3"
  },
  "language_info": {
   "codemirror_mode": {
    "name": "ipython",
    "version": 3
   },
   "file_extension": ".py",
   "mimetype": "text/x-python",
   "name": "python",
   "nbconvert_exporter": "python",
   "pygments_lexer": "ipython3",
   "version": "3.6.9"
  },
  "latex_envs": {
   "LaTeX_envs_menu_present": true,
   "autocomplete": true,
   "bibliofile": "biblio.bib",
   "cite_by": "apalike",
   "current_citInitial": 1,
   "eqLabelWithNumbers": true,
   "eqNumInitial": 1,
   "hotkeys": {
    "equation": "Ctrl-E",
    "itemize": "Ctrl-I"
   },
   "labels_anchors": false,
   "latex_user_defs": false,
   "report_style_numbering": false,
   "user_envs_cfg": false
  },
  "toc": {
   "colors": {
    "hover_highlight": "#DAA520",
    "navigate_num": "#000000",
    "navigate_text": "#333333",
    "running_highlight": "#FF0000",
    "selected_highlight": "#FFD700",
    "sidebar_border": "#EEEEEE",
    "wrapper_background": "#FFFFFF"
   },
   "moveMenuLeft": true,
   "nav_menu": {
    "height": "12px",
    "width": "252px"
   },
   "navigate_menu": true,
   "number_sections": true,
   "sideBar": true,
   "threshold": 4,
   "toc_cell": false,
   "toc_section_display": "block",
   "toc_window_display": false,
   "widenNotebook": false
  }
 },
 "nbformat": 4,
 "nbformat_minor": 4
}
